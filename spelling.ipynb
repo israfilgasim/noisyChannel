{
 "cells": [
  {
   "cell_type": "code",
   "execution_count": 1,
   "metadata": {},
   "outputs": [],
   "source": [
    "import pandas as pd\n",
    "import levenshtein as lv\n",
    "import re"
   ]
  },
  {
   "cell_type": "code",
   "execution_count": 2,
   "metadata": {},
   "outputs": [
    {
     "name": "stdout",
     "output_type": "stream",
     "text": [
      "Number of sentences: 170333\n",
      "Sample sentence: Bu barədə ordunun mətbuat xidməti məlumat yayıb.“Bir müddət əvvəl Livandan İsrailin şimalına doğru 50-yə yaxın raket buraxılışı qeydə alınıb, onlardan bir neçəsinin qarşısı alınıb, qalanları isə yaşayış olmayan ərazilərə düşüb. Təyyarələr buraxılış qurğularına hücum edib, onlardan bəzilərinin buraxılışı müəyyən edilib”, – İsrail Müdafiə Qüvvələrinin mətbuat xidmətinin bəyanatında deyilir.\n"
     ]
    }
   ],
   "source": [
    "df = pd.read_csv('interpress_data.csv')\n",
    "sentence_list = df['content'].tolist()\n",
    "\n",
    "print('Number of sentences:', len(sentence_list))\n",
    "print('Sample sentence:', sentence_list[0])"
   ]
  },
  {
   "cell_type": "code",
   "execution_count": 3,
   "metadata": {},
   "outputs": [
    {
     "name": "stdout",
     "output_type": "stream",
     "text": [
      "Number of sentences in corpus after cleaning: 1860733\n",
      "Sample sentence: [['bu', 'barədə', 'ordunun', 'mətbuat', 'xidməti', 'məlumat', 'yayıb'], ['bir', 'müddət', 'əvvəl', 'livandan', 'i̇srailin', 'şimalına', 'doğru', '50yə', 'yaxın', 'raket', 'buraxılışı', 'qeydə', 'alınıb', 'onlardan', 'bir', 'neçəsinin', 'qarşısı', 'alınıb', 'qalanları', 'isə', 'yaşayış', 'olmayan', 'ərazilərə', 'düşüb'], ['təyyarələr', 'buraxılış', 'qurğularına', 'hücum', 'edib', 'onlardan', 'bəzilərinin', 'buraxılışı', 'müəyyən', 'edilib', 'i̇srail', 'müdafiə', 'qüvvələrinin', 'mətbuat', 'xidmətinin', 'bəyanatında', 'deyilir']]\n"
     ]
    }
   ],
   "source": [
    "def split_into_sentences(text):\n",
    "    sentence_endings = re.compile(r'(?<=[.!?]) +')\n",
    "    sentences = sentence_endings.split(text)\n",
    "    return sentences\n",
    "\n",
    "def process_sentence(sentence):\n",
    "    pattern = r'[^\\w\\s]'\n",
    "    sentence = re.sub(pattern, '', sentence)\n",
    "    words = sentence.lower().split()\n",
    "    return words\n",
    "\n",
    "corpus = []\n",
    "for text in sentence_list:\n",
    "    sentences = split_into_sentences(text.replace('.', '. '))\n",
    "    for sentence in sentences:\n",
    "        words = process_sentence(sentence)\n",
    "        corpus.append(words)\n",
    "\n",
    "print('Number of sentences in corpus after cleaning:', len(corpus))\n",
    "print('Sample sentence:', corpus[:3])"
   ]
  },
  {
   "cell_type": "code",
   "execution_count": 4,
   "metadata": {},
   "outputs": [
    {
     "name": "stdout",
     "output_type": "stream",
     "text": [
      "100000 sentences processed\n",
      "200000 sentences processed\n",
      "300000 sentences processed\n",
      "400000 sentences processed\n",
      "500000 sentences processed\n",
      "600000 sentences processed\n",
      "700000 sentences processed\n",
      "800000 sentences processed\n",
      "900000 sentences processed\n",
      "1000000 sentences processed\n"
     ]
    }
   ],
   "source": [
    "trainedData = lv.Weight()\n",
    "trainedData.train(corpus[:1000000])"
   ]
  },
  {
   "cell_type": "code",
   "execution_count": 5,
   "metadata": {},
   "outputs": [
    {
     "name": "stdout",
     "output_type": "stream",
     "text": [
      "['mən', 'min', 'mln']\n",
      "['dünya', 'dunya', 'danya']\n",
      "['qardaş', 'qardan', 'qarda']\n"
     ]
    }
   ],
   "source": [
    "print(trainedData.correct_input('men'))\n",
    "print(trainedData.correct_input('dwnya'))\n",
    "print(trainedData.correct_input('qardaw'))"
   ]
  },
  {
   "cell_type": "code",
   "execution_count": 8,
   "metadata": {},
   "outputs": [
    {
     "name": "stdout",
     "output_type": "stream",
     "text": [
      "['dünya', 'iqtisadiyyatı', 'böhran', 'yaşamaqdadır']\n",
      "['azərbaycan', 'siyasəti', 'dünyada', 'tanınır']\n",
      "['futbol', 'üzrə', 'avropa', 'çempionatı', 'baslayır']\n",
      "['mininci', 'ildən', 'biri', 'bu', 'belə', 'davam', 'edir']\n"
     ]
    }
   ],
   "source": [
    "print(trainedData.correct_input(\"dwnya qtisadiyyatı bhran yasamaqdadir\"))\n",
    "print(trainedData.correct_input(\"azrbaycan siyasiti dunyada taninır\"))\n",
    "print(trainedData.correct_input(\"futnol üzrə avropa cempionati baslayir\"))\n",
    "print(trainedData.correct_input(\"meninci ilden beri bu bele davam edir\"))"
   ]
  },
  {
   "cell_type": "code",
   "execution_count": 13,
   "metadata": {},
   "outputs": [
    {
     "name": "stdout",
     "output_type": "stream",
     "text": [
      "['bazarda', 'xarici', 'valyuta', 'qiymətində', 'bahalaşma', 'müşahidə', 'olunur']\n"
     ]
    }
   ],
   "source": [
    "print(trainedData.correct_input(\"bazarda xarici vlyuta qiymetinde bahalasma müwahidə ölunur\"))"
   ]
  },
  {
   "cell_type": "code",
   "execution_count": 24,
   "metadata": {},
   "outputs": [
    {
     "name": "stdout",
     "output_type": "stream",
     "text": [
      "['qar', 'yağması', 'gözlənilir']\n",
      "['qışda', 'qar', 'yağıb']\n"
     ]
    }
   ],
   "source": [
    "print(trainedData.correct_input(\"kar yagması gozlenilir\"))\n",
    "print(trainedData.correct_input(\"qışda nar yağib\"))"
   ]
  }
 ],
 "metadata": {
  "kernelspec": {
   "display_name": ".venv",
   "language": "python",
   "name": "python3"
  },
  "language_info": {
   "codemirror_mode": {
    "name": "ipython",
    "version": 3
   },
   "file_extension": ".py",
   "mimetype": "text/x-python",
   "name": "python",
   "nbconvert_exporter": "python",
   "pygments_lexer": "ipython3",
   "version": "3.12.4"
  }
 },
 "nbformat": 4,
 "nbformat_minor": 2
}
